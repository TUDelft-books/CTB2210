{
 "cells": [
  {
   "cell_type": "code",
   "execution_count": null,
   "id": "9f5511b5",
   "metadata": {},
   "outputs": [],
   "source": [
    "import sympy as sym\n",
    "sym.nsimplify(2/2.5e3)\n",
    "\n",
    "sym.nsimplify(6 * 2 * 0.5 / 2.5e3)\n",
    "\n",
    "B_v = sym.symbols('B_v')\n",
    "\n",
    "w_C = -sym.nsimplify(6 * 2 * 0.5 / 2.5e3) + B_v *2 / 2500\n",
    "w_B = -sym.nsimplify(6 * 2 * 0.5 / 2.5e3) + B_v * 2 *2 / 2500\n",
    "display(w_B)\n",
    "display(w_B.evalf())\n",
    "\n",
    "eq = sym.Eq(w_B, 0)\n",
    "\n",
    "B_v_solution = sym.solve(eq, B_v)[0]\n",
    "display(B_v_solution)\n",
    "\n",
    "w_C_solution = w_C.subs(B_v, B_v_solution)\n",
    "display(w_C_solution.evalf())"
   ]
  }
 ],
 "metadata": {
  "language_info": {
   "name": "python"
  }
 },
 "nbformat": 4,
 "nbformat_minor": 5
}
