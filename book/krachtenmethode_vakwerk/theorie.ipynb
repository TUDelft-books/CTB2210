{
 "cells": [
  {
   "cell_type": "markdown",
   "id": "537080a4",
   "metadata": {},
   "source": [
    "(krachtenmethode_simpel)=\n",
    "# Theorie\n",
    "\n",
    "De krachtenmethode is een aanpak om statisch onbepaalde constructies door te rekenen. In deze methode wordt de constructie aangepast naar een statisch bepaalde constructie met vormveranderingsvoorwaarden. Vervolgens kan je de constructie oplossen zoals je gewend bent van statisch bepaalde constructies. De krachtenmethode bestaat altijd uit de volgende stappen:\n",
    "\n",
    "1. Bepaal de graad van statische bepaaldheid.\n",
    "2. Transformeer de constructie in een statisch bepaald systeem door opleggingen weg te nemen, de constructie te splitsen bij pendelstaven of scharnieren toe te voegen: voeg onbekende statisch onbepaalde krachten en vervormingsvoorwaarden toe voor elke oplegging die je hebt weggenomen, aansluiting van de pendelstaven die je hebt weggenomen en scharnieren die je hebt toegevoegd. Let op dat je de constructie niet transformeert tot een (gedeeltelijk) mechanisme!\n",
    "\n",
    "`````{tab-set}\n",
    "````{tab-item} Weghalen oplegging\n",
    "```{figure} ../_git/github.com_TUDelft-books_CEG-mechanics-BSc/CTB2210-2025/book/statically_inderminate/force_method/force_method_data/1.svg\n",
    ":align: center\n",
    "```\n",
    "````\n",
    "````{tab-item} Splitsen constructie bij pendelstaven\n",
    "```{figure} ../_git/github.com_TUDelft-books_CEG-mechanics-BSc/CTB2210-2025/book/statically_inderminate/force_method/force_method_data/2.svg\n",
    ":align: center\n",
    "```\n",
    "````\n",
    "````{tab-item} Toevoegen scharnieren\n",
    "```{figure} ../_git/github.com_TUDelft-books_CEG-mechanics-BSc/CTB2210-2025/book/statically_inderminate/force_method/force_method_data/3.svg\n",
    ":align: center\n",
    "```\n",
    "````\n",
    "`````\n",
    "\n",
    "3. Los de verplaatsing op in termen van de onbekende onbepaalde krachten zoals je normaal zou doen voor een statisch bepaalde constructie.\n",
    "4. Gebruik je vervormingsvoorwaarden om de statisch onbepaalde krachten op te lossen.\n",
    "\n",
    "We behandelen de toepassing op vakwerkconstructies met het volgende voorbeeld.\n",
    "\n",
    "::::::{prf:example}\n",
    ":nonumber: true\n",
    ":label: sd_extsimpel_0\n",
    "\n",
    "```{figure} ./theorie_data/constructie.svg\n",
    "---\n",
    "align: center\n",
    "---\n",
    "Voorbeeldconstructie. Hoewel dit geen vakwerkconstructie is, worden vervorming enkel veroorzaakt door extensie, niet door buiging.\n",
    "```\n",
    "\n",
    "::::::\n",
    "\n",
    "1. Bepaal de graad van statische bepaaldheid.\n",
    "\n",
    "::::::{prf:example}\n",
    ":nonumber: true\n",
    ":label: sd_extsimpel_1\n",
    "\n",
    "Voor ons voorbeeld zijn we geïnteresseerd in de interne krachtenverdeling, dus moeten we de graad van interne statische onbepaaldheid evalueren.\n",
    "\n",
    "```{figure} ./theorie_data/statisch_onbepaaldheid.svg\n",
    "---\n",
    "align: center\n",
    "---\n",
    "Er zijn 6 onbekende krachten en 5 evenwichtsvergelijkingen\n",
    "```\n",
    "\n",
    "Deze constructie is dus 1e orde intern statisch onbepaald.\n",
    "\n",
    "::::::\n",
    "\n",
    "2. Transformeer de constructie in een statisch bepaald systeem door opleggingen weg te nemen, de constructie te splitsen bij een pendelstaaf, of scharnieren toe te voegen: voeg onbekende statisch onbepaalde krachten en vervormingsvoorwaardes toe voor elke opleggging die je hebt weggenomen en scharnieren die je hebt toegevoegd. Let op dat je de constructie niet transformeert tot een (gedeeltelijk) mechanisme!\n",
    "\n",
    "::::::{prf:example}\n",
    ":nonumber: true\n",
    ":label: sd_extsimpel_2\n",
    "\n",
    "Er zijn hier enkele opties, waarvan er enkele hieronder worden getoond:\n",
    "\n",
    "```{figure} ./theorie_data/options.svg\n",
    ":align: center\n",
    "```\n",
    "\n",
    "De eerste optie wordt gekozen.\n",
    "\n",
    "::::::\n",
    "\n",
    "3. Los de verplaatsing op in termen van de onbekende onbepaalde krachten zoals je normaal zou doen voor een statisch bepaalde constructie.\n",
    "\n",
    "::::::{prf:example}\n",
    ":nonumber: true\n",
    ":label: sd_extsimpel_4\n",
    "\n",
    "We hebben de volgende statisch bepaalde constructie gekozen met vervormingsvoorwaarde $w_{\\rm{B}}\\left( B_{\\rm{v}} \\right) = 0$:\n",
    "\n",
    "```{figure} ./theorie_data/SB-systeem.svg\n",
    "---\n",
    "align: center\n",
    "---\n",
    "De statisch bepaalde constructie met vervormingsvoorwaarde\n",
    "```\n",
    "\n",
    "Om de verplaatsing van $\\rm{B}$ te vinden, kunnen eerst de normaalkrachten worden geëvalueerd als functie van $B_{\\rm{v}}$ met behulp van verticaal krachtenevenwicht:\n",
    "\n",
    "- $N_{\\rm{AC}}\\left( B_{\\rm{v}} \\right) = - B_{\\rm{v}} + 3 \\cdot x $\n",
    "- $N_{\\rm{BC}} \\left( B_{\\rm{v}} \\right) = - B_{\\rm{v}}$\n",
    "\n",
    "Dit leidt tot de volgende uitrekking van de elementen, met behulp van $\\Delta L = \\cfrac{N \\ L}{EA}$:\n",
    "\n",
    "- $\\Delta L_{\\rm{AC}}\\left( B_{\\rm{v}} \\right) = - \\cfrac{B_{\\rm{v}} \\cdot 2}{2500} + \\cfrac{\\left( 2 \\cdot 3 \\right) \\cdot 2}{2 \\cdot 2500} = - \\cfrac{B_{\\rm{v}}}{1250} + \\cfrac{3}{1250} $\n",
    "- $\\Delta L_{\\rm{BC}}\\left( B_{\\rm{v}} \\right) = -\\cfrac{B_{\\rm{v}}}{1250}$\n",
    "\n",
    "Dit leidt tot een verplaatsing van:\n",
    "\n",
    "- $w_{\\rm{C}}\\left( B_{\\rm{v}} \\right) = \\cfrac{B_{\\rm{v}}}{1250} - \\cfrac{3}{1250}  $\n",
    "- $w_{\\rm{B}}\\left( B_{\\rm{v}} \\right) = \\cfrac{B_{\\rm{v}}}{625} - \\cfrac{3}{1250} $\n",
    "\n",
    "::::::\n",
    "\n",
    "4. Gebruik je vormveranderingsvoorwaarden om de statisch onbepaalde krachten op te lossen\n",
    "\n",
    "\n",
    "::::::{prf:example}\n",
    ":nonumber: true\n",
    ":label: sd_extsimpel_5\n",
    "\n",
    "$$\n",
    "\\begin{align*}\n",
    "w_{\\rm{B}}\\left( B_{\\rm{v}} \\right) &= 0 \\\\\n",
    "\\cfrac{B_{\\rm{v}}}{625} - \\cfrac{3}{1250} &= 0 \\\\\n",
    "B_{\\rm{v}} &= 1.5 \\ \\rm{kN}\n",
    "\\end{align*}\n",
    "$$\n",
    "\n",
    "Dit leidt tot de volgende andere resultaten:\n",
    "\n",
    "$w_{\\rm{C}} = 1.2 \\ \\rm{mm} \\left( \\downarrow \\right) $\n",
    "\n",
    "```{figure} ./theorie_data/Nlijn.svg\n",
    ":align: center\n",
    "```\n",
    "\n",
    "::::::\n",
    "\n"
   ]
  },
  {
   "cell_type": "code",
   "execution_count": 22,
   "id": "a4f45995",
   "metadata": {
    "tags": [
     "remove-cell",
     "disable-execution-page"
    ]
   },
   "outputs": [
    {
     "data": {
      "text/latex": [
       "$\\displaystyle \\frac{B_{v}}{625} - \\frac{3}{1250}$"
      ],
      "text/plain": [
       "B_v/625 - 3/1250"
      ]
     },
     "metadata": {},
     "output_type": "display_data"
    },
    {
     "data": {
      "text/latex": [
       "$\\displaystyle 0.0016 B_{v} - 0.0024$"
      ],
      "text/plain": [
       "0.0016*B_v - 0.0024"
      ]
     },
     "metadata": {},
     "output_type": "display_data"
    },
    {
     "data": {
      "text/latex": [
       "$\\displaystyle \\frac{3}{2}$"
      ],
      "text/plain": [
       "3/2"
      ]
     },
     "metadata": {},
     "output_type": "display_data"
    },
    {
     "data": {
      "text/latex": [
       "$\\displaystyle -0.0012$"
      ],
      "text/plain": [
       "-0.00120000000000000"
      ]
     },
     "metadata": {},
     "output_type": "display_data"
    }
   ],
   "source": [
    "import sympy as sym\n",
    "sym.nsimplify(2/2.5e3)\n",
    "\n",
    "sym.nsimplify(6 * 2 * 0.5 / 2.5e3)\n",
    "\n",
    "B_v = sym.symbols('B_v')\n",
    "\n",
    "w_C = -sym.nsimplify(6 * 2 * 0.5 / 2.5e3) + B_v *2 / 2500\n",
    "w_B = -sym.nsimplify(6 * 2 * 0.5 / 2.5e3) + B_v * 2 *2 / 2500\n",
    "display(w_B)\n",
    "display(w_B.evalf())\n",
    "\n",
    "eq = sym.Eq(w_B, 0)\n",
    "\n",
    "B_v_solution = sym.solve(eq, B_v)[0]\n",
    "display(B_v_solution)\n",
    "\n",
    "w_C_solution = w_C.subs(B_v, B_v_solution)\n",
    "display(w_C_solution.evalf())"
   ]
  },
  {
   "cell_type": "markdown",
   "id": "52c79918",
   "metadata": {},
   "source": [
    "## Meer voorbeelden\n",
    "\n",
    "In hoofdstuk 2.1 van het boek Mechanica, Statisch onbepaalde constructies en bezwijkanalyse {cite:p}`Hartsuijker2016` wordt de krachtemethode in het algemeen behandeld. Specifiek voor simpele vakwerkconstructies wordt behandeld in hoofdstuk 2.2.8 - 2.2.9."
   ]
  },
  {
   "cell_type": "markdown",
   "id": "2600a21f",
   "metadata": {},
   "source": [
    "## Oefeningen\n",
    "- Opgaves 2.31 - 2.36, 2.39, in hoofdstuk 2.3 van het boek Mechanica, Statisch onbepaalde constructies en bezwijkanalyse {cite:p}`Hartsuijker2016`.\n",
    "\n",
    "Antwoorden zijn [hier beschikbaar](https://icozct.tudelft.nl/TUD_CT/boekantwoorden/vol3/Chapter1-2/)."
   ]
  }
 ],
 "metadata": {
  "kernelspec": {
   "display_name": "base",
   "language": "python",
   "name": "python3"
  },
  "language_info": {
   "codemirror_mode": {
    "name": "ipython",
    "version": 3
   },
   "file_extension": ".py",
   "mimetype": "text/x-python",
   "name": "python",
   "nbconvert_exporter": "python",
   "pygments_lexer": "ipython3",
   "version": "3.12.11"
  }
 },
 "nbformat": 4,
 "nbformat_minor": 5
}
