{
 "cells": [
  {
   "cell_type": "code",
   "execution_count": 1,
   "id": "34821654",
   "metadata": {},
   "outputs": [
    {
     "data": {
      "text/plain": [
       "{Bv: 5*N_AD/2 - 50, N_CE: 65 - 3*N_AD/2}"
      ]
     },
     "metadata": {},
     "output_type": "display_data"
    },
    {
     "data": {
      "text/latex": [
       "$\\displaystyle \\frac{15 N_{AD}}{4 EA} - \\frac{325}{2 EA}$"
      ],
      "text/plain": [
       "15*N_AD/(4*EA) - 325/(2*EA)"
      ]
     },
     "metadata": {},
     "output_type": "display_data"
    },
    {
     "data": {
      "text/latex": [
       "$\\displaystyle - \\frac{45 N_{AD}}{8 EA} + \\frac{975}{4 EA}$"
      ],
      "text/plain": [
       "-45*N_AD/(8*EA) + 975/(4*EA)"
      ]
     },
     "metadata": {},
     "output_type": "display_data"
    },
    {
     "data": {
      "text/latex": [
       "$\\displaystyle - \\frac{25 N_{AD}}{8 EA} + \\frac{975}{4 EA}$"
      ],
      "text/plain": [
       "-25*N_AD/(8*EA) + 975/(4*EA)"
      ]
     },
     "metadata": {},
     "output_type": "display_data"
    },
    {
     "data": {
      "text/latex": [
       "$\\displaystyle 78$"
      ],
      "text/plain": [
       "78"
      ]
     },
     "metadata": {},
     "output_type": "display_data"
    }
   ],
   "source": [
    "import sympy as sym\n",
    "\n",
    "Av, Bv, Cv = sym.symbols('Av, Bv, Cv')\n",
    "N_AD, N_CE = sym.symbols('N_AD, N_CE')\n",
    "EA = sym.symbols('EA')\n",
    "F = sym.nsimplify(26)\n",
    "\n",
    "eq1 = sym.Eq(- N_AD * 3 - N_CE * 2 + F * 5, 0)\n",
    "eq2 = sym.Eq(-N_AD + Bv + N_CE - 15, 0)\n",
    "\n",
    "sol = sym.solve((eq1, eq2), [Bv, N_CE])\n",
    "display(sol)\n",
    "\n",
    "w_E = - sol[N_CE] * 5/2 / EA\n",
    "w_D = - w_E / 2 * 3\n",
    "w_A = w_D + N_AD * 5 / 2 / EA\n",
    "display(w_E.simplify().expand(), w_D.simplify().expand(), w_A.simplify().expand())\n",
    "\n",
    "eq3 = sym.Eq(w_A, 0)\n",
    "sol2 = sym.solve(eq3, N_AD)[0]\n",
    "display(sol2)"
   ]
  },
  {
   "cell_type": "code",
   "execution_count": null,
   "id": "b4f71009",
   "metadata": {},
   "outputs": [
    {
     "data": {
      "text/plain": [
       "{Av: -2*Bv/5 - 20, Cv: 35 - 3*Bv/5}"
      ]
     },
     "metadata": {},
     "output_type": "display_data"
    },
    {
     "data": {
      "text/latex": [
       "$\\displaystyle \\frac{3 Bv}{2 EA} - \\frac{175}{2 EA}$"
      ],
      "text/plain": [
       "3*Bv/(2*EA) - 175/(2*EA)"
      ]
     },
     "metadata": {},
     "output_type": "display_data"
    },
    {
     "data": {
      "text/latex": [
       "$\\displaystyle - \\frac{Bv}{EA} - \\frac{50}{EA}$"
      ],
      "text/plain": [
       "-Bv/EA - 50/EA"
      ]
     },
     "metadata": {},
     "output_type": "display_data"
    },
    {
     "data": {
      "text/latex": [
       "$\\displaystyle \\frac{Bv}{2 EA} - \\frac{145}{2 EA}$"
      ],
      "text/plain": [
       "Bv/(2*EA) - 145/(2*EA)"
      ]
     },
     "metadata": {},
     "output_type": "display_data"
    },
    {
     "data": {
      "text/latex": [
       "$\\displaystyle 145$"
      ],
      "text/plain": [
       "145"
      ]
     },
     "metadata": {},
     "output_type": "display_data"
    }
   ],
   "source": [
    "sol = sym.solve((eq1, eq2), (Av, Cv))\n",
    "display(sol)\n",
    "\n",
    "w_E = -sol[Cv] * 5/2 / EA\n",
    "w_D = sol[Av] * 5/2 / EA\n",
    "w_B = w_E * 3 / 5 + w_D * 2 / 5\n",
    "display(w_E.simplify().expand(), w_D.simplify().expand(), w_B.simplify().expand())\n",
    "\n",
    "eq3 = sym.Eq(w_B, 0)\n",
    "sol2 = sym.solve(eq3, Bv)[0]\n",
    "display(sol2)"
   ]
  },
  {
   "cell_type": "code",
   "execution_count": 43,
   "id": "db0cb688",
   "metadata": {},
   "outputs": [
    {
     "data": {
      "text/plain": [
       "{Av: 2*Cv/3 - 130/3, Bv: 175/3 - 5*Cv/3}"
      ]
     },
     "metadata": {},
     "output_type": "display_data"
    },
    {
     "data": {
      "text/latex": [
       "$\\displaystyle - \\frac{5 Cv}{3 EA} + \\frac{325}{3 EA}$"
      ],
      "text/plain": [
       "-5*Cv/(3*EA) + 325/(3*EA)"
      ]
     },
     "metadata": {},
     "output_type": "display_data"
    },
    {
     "data": {
      "text/latex": [
       "$\\displaystyle \\frac{10 Cv}{9 EA} - \\frac{650}{9 EA}$"
      ],
      "text/plain": [
       "10*Cv/(9*EA) - 650/(9*EA)"
      ]
     },
     "metadata": {},
     "output_type": "display_data"
    },
    {
     "data": {
      "text/latex": [
       "$\\displaystyle \\frac{65 Cv}{18 EA} - \\frac{650}{9 EA}$"
      ],
      "text/plain": [
       "65*Cv/(18*EA) - 650/(9*EA)"
      ]
     },
     "metadata": {},
     "output_type": "display_data"
    },
    {
     "data": {
      "text/latex": [
       "$\\displaystyle 20$"
      ],
      "text/plain": [
       "20"
      ]
     },
     "metadata": {},
     "output_type": "display_data"
    }
   ],
   "source": [
    "sol = sym.solve((eq1, eq2), (Av, Bv))\n",
    "display(sol)\n",
    "\n",
    "w_D = - sol[Av] * 5/2 / EA\n",
    "w_E = -w_D / 3 * 2\n",
    "w_C = w_E + Cv * 5/2 / EA\n",
    "display(w_D.simplify().expand(), w_E.simplify().expand(), w_C.simplify().expand())\n",
    "\n",
    "eq3 = sym.Eq(w_C, 0)\n",
    "sol2 = sym.solve(eq3, Cv)[0]\n",
    "display(sol2)"
   ]
  },
  {
   "cell_type": "code",
   "execution_count": 44,
   "id": "1aa1dba0",
   "metadata": {},
   "outputs": [
    {
     "data": {
      "text/latex": [
       "$\\displaystyle - \\frac{5 Mb}{6 EA}$"
      ],
      "text/plain": [
       "-5*Mb/(6*EA)"
      ]
     },
     "metadata": {},
     "output_type": "display_data"
    },
    {
     "data": {
      "text/latex": [
       "$\\displaystyle - \\frac{5 Mb}{6 EA} - \\frac{325}{3 EA}$"
      ],
      "text/plain": [
       "-5*Mb/(6*EA) - 325/(3*EA)"
      ]
     },
     "metadata": {},
     "output_type": "display_data"
    },
    {
     "data": {
      "text/latex": [
       "$\\displaystyle -78$"
      ],
      "text/plain": [
       "-78"
      ]
     },
     "metadata": {},
     "output_type": "display_data"
    }
   ],
   "source": [
    "Mb = sym.symbols('Mb')\n",
    "\n",
    "N_AD = - Mb / 3\n",
    "N_CE = (Mb + F * 5) / 3\n",
    "\n",
    "w_D = N_AD * 5 / 2 / EA\n",
    "w_E = - N_CE * 5 / 2 / EA\n",
    "\n",
    "display(w_D.simplify().expand(), w_E.simplify().expand())\n",
    "\n",
    "phi_DB = w_D / 3\n",
    "phi_BE = -w_E / 2\n",
    "\n",
    "eq4 = sym.Eq(phi_DB, phi_BE)\n",
    "\n",
    "sol3 = sym.solve(eq4, Mb)[0]\n",
    "\n",
    "display(sol3)"
   ]
  }
 ],
 "metadata": {
  "kernelspec": {
   "display_name": "base",
   "language": "python",
   "name": "python3"
  },
  "language_info": {
   "codemirror_mode": {
    "name": "ipython",
    "version": 3
   },
   "file_extension": ".py",
   "mimetype": "text/x-python",
   "name": "python",
   "nbconvert_exporter": "python",
   "pygments_lexer": "ipython3",
   "version": "3.12.11"
  }
 },
 "nbformat": 4,
 "nbformat_minor": 5
}
