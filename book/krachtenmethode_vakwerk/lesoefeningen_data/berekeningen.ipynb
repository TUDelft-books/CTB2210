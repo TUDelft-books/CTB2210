{
 "cells": [
  {
   "cell_type": "code",
   "execution_count": 41,
   "id": "34821654",
   "metadata": {},
   "outputs": [
    {
     "data": {
      "text/plain": [
       "{Bv: 5*N_AD/2 - 39, N_CE: 65 - 3*N_AD/2}"
      ]
     },
     "metadata": {},
     "output_type": "display_data"
    },
    {
     "data": {
      "text/latex": [
       "$\\displaystyle 65.0 - 1.5 N_{AD}$"
      ],
      "text/plain": [
       "65.0 - 1.5*N_AD"
      ]
     },
     "metadata": {},
     "output_type": "display_data"
    },
    {
     "data": {
      "text/latex": [
       "$\\displaystyle 0.0015 N_{AD} - 0.065$"
      ],
      "text/plain": [
       "0.0015*N_AD - 0.065"
      ]
     },
     "metadata": {},
     "output_type": "display_data"
    },
    {
     "data": {
      "text/latex": [
       "$\\displaystyle 0.0975 - 0.00225 N_{AD}$"
      ],
      "text/plain": [
       "0.0975 - 0.00225*N_AD"
      ]
     },
     "metadata": {},
     "output_type": "display_data"
    },
    {
     "data": {
      "text/latex": [
       "$\\displaystyle 0.001 N_{AD}$"
      ],
      "text/plain": [
       "0.001*N_AD"
      ]
     },
     "metadata": {},
     "output_type": "display_data"
    },
    {
     "data": {
      "text/latex": [
       "$\\displaystyle 30$"
      ],
      "text/plain": [
       "30"
      ]
     },
     "metadata": {},
     "output_type": "display_data"
    },
    {
     "data": {
      "text/latex": [
       "$\\displaystyle 36.0$"
      ],
      "text/plain": [
       "36.0000000000000"
      ]
     },
     "metadata": {},
     "output_type": "display_data"
    },
    {
     "data": {
      "text/latex": [
       "$\\displaystyle 20.0$"
      ],
      "text/plain": [
       "20.0000000000000"
      ]
     },
     "metadata": {},
     "output_type": "display_data"
    },
    {
     "data": {
      "text/latex": [
       "$\\displaystyle -0.02$"
      ],
      "text/plain": [
       "-0.0200000000000000"
      ]
     },
     "metadata": {},
     "output_type": "display_data"
    },
    {
     "data": {
      "text/latex": [
       "$\\displaystyle 0.03$"
      ],
      "text/plain": [
       "0.0300000000000000"
      ]
     },
     "metadata": {},
     "output_type": "display_data"
    }
   ],
   "source": [
    "import sympy as sym\n",
    "\n",
    "Av, Bv, Cv = sym.symbols('Av, Bv, Cv')\n",
    "N_AD, N_CE = sym.symbols('N_AD, N_CE')\n",
    "EA = sym.symbols('EA')\n",
    "EA = sym.nsimplify(2500)\n",
    "F = sym.nsimplify(26)\n",
    "\n",
    "eq1 = sym.Eq(- N_AD * 3 - N_CE * 2 + F * 5, 0)\n",
    "eq2 = sym.Eq(-N_AD + Bv + N_CE - F, 0)\n",
    "\n",
    "sol = sym.solve((eq1, eq2), [Bv, N_CE])\n",
    "display(sol)\n",
    "\n",
    "display(sol[N_CE].simplify().expand().evalf())\n",
    "\n",
    "w_E = - sol[N_CE] * 5/2 / EA\n",
    "w_D = - w_E / 2 * 3\n",
    "w_A = N_AD * 5 / 2 / EA\n",
    "display(w_E.simplify().expand().evalf(), w_D.simplify().expand().evalf(), w_A.simplify().expand().evalf())\n",
    "\n",
    "eq3 = sym.Eq(w_D, w_A)\n",
    "sol2 = sym.solve(eq3, N_AD)[0]\n",
    "display(sol2)\n",
    "\n",
    "display(sol[Bv].subs(N_AD, sol2).simplify().expand().evalf())\n",
    "display(sol[N_CE].subs(N_AD, sol2).simplify().expand().evalf())\n",
    "display(w_E.subs(N_AD,sol2).simplify().expand().evalf())\n",
    "display(w_D.subs(N_AD,sol2).simplify().expand().evalf())"
   ]
  },
  {
   "cell_type": "code",
   "execution_count": 29,
   "id": "b4f71009",
   "metadata": {},
   "outputs": [
    {
     "data": {
      "text/plain": [
       "{N_AD: 2*Bv/5 + 78/5, N_CE: 208/5 - 3*Bv/5}"
      ]
     },
     "metadata": {},
     "output_type": "display_data"
    },
    {
     "data": {
      "text/latex": [
       "$\\displaystyle 0.4 Bv + 15.6$"
      ],
      "text/plain": [
       "0.4*Bv + 15.6"
      ]
     },
     "metadata": {},
     "output_type": "display_data"
    },
    {
     "data": {
      "text/latex": [
       "$\\displaystyle 41.6 - 0.6 Bv$"
      ],
      "text/plain": [
       "41.6 - 0.6*Bv"
      ]
     },
     "metadata": {},
     "output_type": "display_data"
    },
    {
     "data": {
      "text/latex": [
       "$\\displaystyle \\frac{3 Bv}{5000} - \\frac{26}{625}$"
      ],
      "text/plain": [
       "3*Bv/5000 - 26/625"
      ]
     },
     "metadata": {},
     "output_type": "display_data"
    },
    {
     "data": {
      "text/latex": [
       "$\\displaystyle \\frac{Bv}{2500} + \\frac{39}{2500}$"
      ],
      "text/plain": [
       "Bv/2500 + 39/2500"
      ]
     },
     "metadata": {},
     "output_type": "display_data"
    },
    {
     "data": {
      "text/latex": [
       "$\\displaystyle \\frac{13 Bv}{25000} - \\frac{117}{6250}$"
      ],
      "text/plain": [
       "13*Bv/25000 - 117/6250"
      ]
     },
     "metadata": {},
     "output_type": "display_data"
    },
    {
     "data": {
      "text/latex": [
       "$\\displaystyle 0.0006 Bv - 0.0416$"
      ],
      "text/plain": [
       "0.0006*Bv - 0.0416"
      ]
     },
     "metadata": {},
     "output_type": "display_data"
    },
    {
     "data": {
      "text/latex": [
       "$\\displaystyle 0.0004 Bv + 0.0156$"
      ],
      "text/plain": [
       "0.0004*Bv + 0.0156"
      ]
     },
     "metadata": {},
     "output_type": "display_data"
    },
    {
     "data": {
      "text/latex": [
       "$\\displaystyle 0.00052 Bv - 0.01872$"
      ],
      "text/plain": [
       "0.00052*Bv - 0.01872"
      ]
     },
     "metadata": {},
     "output_type": "display_data"
    },
    {
     "data": {
      "text/latex": [
       "$\\displaystyle 36$"
      ],
      "text/plain": [
       "36"
      ]
     },
     "metadata": {},
     "output_type": "display_data"
    },
    {
     "data": {
      "text/latex": [
       "$\\displaystyle \\frac{3}{100}$"
      ],
      "text/plain": [
       "3/100"
      ]
     },
     "metadata": {},
     "output_type": "display_data"
    },
    {
     "data": {
      "text/latex": [
       "$\\displaystyle - \\frac{1}{50}$"
      ],
      "text/plain": [
       "-1/50"
      ]
     },
     "metadata": {},
     "output_type": "display_data"
    }
   ],
   "source": [
    "sol = sym.solve((eq1, eq2), (N_AD, N_CE))\n",
    "display(sol)\n",
    "\n",
    "display(sol[N_AD].simplify().expand().evalf(), sol[N_CE].simplify().expand().evalf())\n",
    "\n",
    "w_E = -sol[N_CE] * 5/2 / EA\n",
    "w_D = sol[N_AD] * 5/2 / EA\n",
    "w_B = w_E * 3 / 5 + w_D * 2 / 5\n",
    "display(w_E.simplify().expand(), w_D.simplify().expand(), w_B.simplify().expand())\n",
    "display(w_E.simplify().expand().evalf())\n",
    "display(w_D.simplify().expand().evalf())\n",
    "display(w_B.simplify().expand().evalf())\n",
    "\n",
    "eq3 = sym.Eq(w_B, 0)\n",
    "sol2 = sym.solve(eq3, Bv)[0]\n",
    "display(sol2)\n",
    "\n",
    "display(w_D.subs(Bv, sol2).simplify().expand())\n",
    "display(w_E.subs(Bv, sol2).simplify().expand())"
   ]
  },
  {
   "cell_type": "code",
   "execution_count": 3,
   "id": "db0cb688",
   "metadata": {},
   "outputs": [
    {
     "data": {
      "text/plain": [
       "{Bv: 208/3 - 5*N_CE/3, N_AD: 130/3 - 2*N_CE/3}"
      ]
     },
     "metadata": {},
     "output_type": "display_data"
    },
    {
     "data": {
      "text/latex": [
       "$\\displaystyle - \\frac{5 N_{CE}}{3 EA} + \\frac{325}{3 EA}$"
      ],
      "text/plain": [
       "-5*N_CE/(3*EA) + 325/(3*EA)"
      ]
     },
     "metadata": {},
     "output_type": "display_data"
    },
    {
     "data": {
      "text/latex": [
       "$\\displaystyle \\frac{10 N_{CE}}{9 EA} - \\frac{650}{9 EA}$"
      ],
      "text/plain": [
       "10*N_CE/(9*EA) - 650/(9*EA)"
      ]
     },
     "metadata": {},
     "output_type": "display_data"
    },
    {
     "data": {
      "text/latex": [
       "$\\displaystyle \\frac{65 N_{CE}}{18 EA} - \\frac{650}{9 EA}$"
      ],
      "text/plain": [
       "65*N_CE/(18*EA) - 650/(9*EA)"
      ]
     },
     "metadata": {},
     "output_type": "display_data"
    },
    {
     "data": {
      "text/latex": [
       "$\\displaystyle 20$"
      ],
      "text/plain": [
       "20"
      ]
     },
     "metadata": {},
     "output_type": "display_data"
    }
   ],
   "source": [
    "sol = sym.solve((eq1, eq2), (N_AD, Bv))\n",
    "display(sol)\n",
    "\n",
    "w_D = sol[N_AD] * 5/2 / EA\n",
    "w_E = -w_D / 3 * 2\n",
    "w_C = w_E + N_CE * 5/2 / EA\n",
    "display(w_D.simplify().expand(), w_E.simplify().expand(), w_C.simplify().expand())\n",
    "\n",
    "eq3 = sym.Eq(w_C, 0)\n",
    "sol2 = sym.solve(eq3, N_CE)[0]\n",
    "display(sol2)"
   ]
  },
  {
   "cell_type": "code",
   "execution_count": 38,
   "id": "1aa1dba0",
   "metadata": {},
   "outputs": [
    {
     "data": {
      "text/latex": [
       "$\\displaystyle - \\frac{Mb}{3000}$"
      ],
      "text/plain": [
       "-Mb/3000"
      ]
     },
     "metadata": {},
     "output_type": "display_data"
    },
    {
     "data": {
      "text/latex": [
       "$\\displaystyle - \\frac{Mb}{2000} - \\frac{13}{200}$"
      ],
      "text/plain": [
       "-Mb/2000 - 13/200"
      ]
     },
     "metadata": {},
     "output_type": "display_data"
    },
    {
     "data": {
      "text/latex": [
       "$\\displaystyle - 0.333333333333333 Mb$"
      ],
      "text/plain": [
       "-0.333333333333333*Mb"
      ]
     },
     "metadata": {},
     "output_type": "display_data"
    },
    {
     "data": {
      "text/latex": [
       "$\\displaystyle 0.5 Mb + 65.0$"
      ],
      "text/plain": [
       "0.5*Mb + 65.0"
      ]
     },
     "metadata": {},
     "output_type": "display_data"
    },
    {
     "data": {
      "text/latex": [
       "$\\displaystyle - \\frac{Mb}{9000}$"
      ],
      "text/plain": [
       "-Mb/9000"
      ]
     },
     "metadata": {},
     "output_type": "display_data"
    },
    {
     "data": {
      "text/latex": [
       "$\\displaystyle \\frac{Mb}{4000} + \\frac{13}{400}$"
      ],
      "text/plain": [
       "Mb/4000 + 13/400"
      ]
     },
     "metadata": {},
     "output_type": "display_data"
    },
    {
     "data": {
      "text/latex": [
       "$\\displaystyle - 0.000111111111111111 Mb$"
      ],
      "text/plain": [
       "-0.000111111111111111*Mb"
      ]
     },
     "metadata": {},
     "output_type": "display_data"
    },
    {
     "data": {
      "text/latex": [
       "$\\displaystyle 0.00025 Mb + 0.0325$"
      ],
      "text/plain": [
       "0.00025*Mb + 0.0325"
      ]
     },
     "metadata": {},
     "output_type": "display_data"
    },
    {
     "data": {
      "text/latex": [
       "$\\displaystyle -90$"
      ],
      "text/plain": [
       "-90"
      ]
     },
     "metadata": {},
     "output_type": "display_data"
    },
    {
     "data": {
      "text/latex": [
       "$\\displaystyle 30$"
      ],
      "text/plain": [
       "30"
      ]
     },
     "metadata": {},
     "output_type": "display_data"
    },
    {
     "data": {
      "text/latex": [
       "$\\displaystyle 20$"
      ],
      "text/plain": [
       "20"
      ]
     },
     "metadata": {},
     "output_type": "display_data"
    },
    {
     "data": {
      "text/latex": [
       "$\\displaystyle 0.01$"
      ],
      "text/plain": [
       "0.0100000000000000"
      ]
     },
     "metadata": {},
     "output_type": "display_data"
    },
    {
     "data": {
      "text/latex": [
       "$\\displaystyle 0.01$"
      ],
      "text/plain": [
       "0.0100000000000000"
      ]
     },
     "metadata": {},
     "output_type": "display_data"
    }
   ],
   "source": [
    "Mb = sym.symbols('Mb')\n",
    "\n",
    "N_AD = - Mb / 3\n",
    "N_CE = (Mb + F * 5) / 2\n",
    "\n",
    "w_D = N_AD * 5 / 2 / EA\n",
    "w_E = - N_CE * 5 / 2 / EA\n",
    "\n",
    "display(w_D.simplify().expand(), w_E.simplify().expand())\n",
    "\n",
    "display(N_AD.simplify().expand().evalf())\n",
    "display(N_CE.simplify().expand().evalf())\n",
    "\n",
    "phi_DB = w_D / 3\n",
    "phi_BE = -w_E / 2\n",
    "\n",
    "display(phi_DB.simplify().expand(), phi_BE.simplify().expand())\n",
    "\n",
    "display(phi_DB.simplify().expand().evalf())\n",
    "display(phi_BE.simplify().expand().evalf())\n",
    "\n",
    "eq4 = sym.Eq(phi_DB, phi_BE)\n",
    "\n",
    "sol3 = sym.solve(eq4, Mb)[0]\n",
    "\n",
    "display(sol3)\n",
    "\n",
    "display(N_AD.subs(Mb, sol3))\n",
    "display(N_CE.subs(Mb, sol3))\n",
    "\n",
    "display(phi_DB.subs(Mb, sol3).evalf())\n",
    "display(phi_BE.subs(Mb, sol3).evalf())\n"
   ]
  },
  {
   "cell_type": "code",
   "execution_count": null,
   "id": "1f1b6ef8",
   "metadata": {},
   "outputs": [],
   "source": []
  }
 ],
 "metadata": {
  "kernelspec": {
   "display_name": "base",
   "language": "python",
   "name": "python3"
  },
  "language_info": {
   "codemirror_mode": {
    "name": "ipython",
    "version": 3
   },
   "file_extension": ".py",
   "mimetype": "text/x-python",
   "name": "python",
   "nbconvert_exporter": "python",
   "pygments_lexer": "ipython3",
   "version": "3.12.11"
  }
 },
 "nbformat": 4,
 "nbformat_minor": 5
}
