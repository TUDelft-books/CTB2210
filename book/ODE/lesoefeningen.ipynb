{
 "cells": [
  {
   "cell_type": "markdown",
   "id": "44f13f99",
   "metadata": {},
   "source": [
    "````{margin}\n",
    "```{attributiongrey} Attribution\n",
    ":class: attribution\n",
    "\n",
    "Deze oefening is aangepast van https://github.com/TUDelft-books/CT1000 versie CTB2210-2025.\n",
    "```\n",
    "```` \n",
    "\n",
    "# Begeleide oefening 1\n",
    "\n",
    "Gegeven is de volgende constructie:\n",
    "\n",
    "```{figure} ../_git/github.com_TUDelft-books_CT1000/CTB2210-2025/book/week_3/session_1/intro_data/figure2.svg\n",
    "---\n",
    "align: center\n",
    "---\n",
    "Constructie\n",
    "```\n",
    "\n",
    ":::::{exercise}\n",
    ":label: ODE_3_1\n",
    ":nonumber: true\n",
    "\n",
    "Bepaal de segmenten en teken de vrijlichaamsschema's.\n",
    "\n",
    "```{h5p} https://tudelft.h5p.com/content/1292630673009985967/embed\n",
    "```\n",
    "\n",
    ":::::\n",
    "\n",
    "% solution_start\n",
    "\n",
    "::::{solution} ODE_3_1\n",
    ":class: dropdown\n",
    "\n",
    "$q_z = -12 \\cdot x + 0$\n",
    "\n",
    "::::\n",
    "\n",
    "% solution_end\n",
    "\n",
    ":::::{exercise}\n",
    ":label: ODE_3_2\n",
    ":nonumber: true\n",
    "\n",
    "Bepaal de relaties van de krachtsgrootheden en verplaatsingen.\n",
    "\n",
    "```{h5p} https://tudelft.h5p.com/content/1292630677998825487/embed\n",
    "```\n",
    "\n",
    ":::::\n",
    "\n",
    "% solution_start\n",
    "\n",
    "::::{solution} ODE_3_2\n",
    ":class: dropdown\n",
    "\n",
    "- $ w \\left( 0\\right) = 0 $\n",
    "- $ M \\left( 0\\right) = 0$\n",
    "- $ w \\left( 8\\right) = 0$\n",
    "- $ \\varphi \\left( 8 \\right) = 0$\n",
    "\n",
    "::::\n",
    "\n",
    "% solution_end\n",
    "\n",
    ":::::{exercise-start}\n",
    ":label: ODE_3_3\n",
    ":nonumber: true\n",
    "\n",
    "Los de integratieconstanten op. Je kan gebruik maken van de volgende code cellen. (Klik op {fa}`rocket` --> {guilabel}`Live Code` om live python code te activeren op deze pagina.)\n",
    "\n",
    "```{h5p} https://tudelft.h5p.com/content/1292630704310133517/embed\n",
    "```\n",
    "\n",
    ":::::\n"
   ]
  },
  {
   "cell_type": "code",
   "execution_count": null,
   "id": "91dc34be",
   "metadata": {},
   "outputs": [],
   "source": [
    "import numpy as np\n",
    "\n",
    "A = np.array([\n",
    "    [ , , , ],\n",
    "    [ , , , ],\n",
    "    [ , , , ],\n",
    "    [ , , , ],\n",
    "])\n",
    "\n",
    "b = np.array([\n",
    "        ,\n",
    "        ,\n",
    "        ,\n",
    "        ,\n",
    "])\n"
   ]
  },
  {
   "cell_type": "code",
   "execution_count": null,
   "id": "ce6f1792",
   "metadata": {},
   "outputs": [],
   "source": [
    "np.linalg.solve(A,b)"
   ]
  },
  {
   "cell_type": "code",
   "execution_count": null,
   "id": "9e466305",
   "metadata": {},
   "outputs": [],
   "source": [
    "import sympy as sym\n",
    "sym.init_printing()\n",
    "\n",
    "x = sym.symbols('x')\n",
    "\n",
    "q =  \n",
    "EI = 6400\n",
    "\n",
    "C_1, C_2, C_3, C_4 = sym.symbols('C_1 C_2 C_3 C_4')\n",
    "\n",
    "V = -sym.integrate(q, x) + C_1\n",
    "M = sym.integrate(V, x) + C_2\n",
    "kappa = M/EI\n",
    "phi = sym.integrate(kappa, x) + C_3\n",
    "w = -sym.integrate(phi, x) + C_4\n",
    "\n",
    "eq1 = sym.Eq(w.subs(x,0), )\n",
    "eq2 = sym.Eq( .subs(x,0), )\n",
    "eq3 = sym.Eq(w.subs(x,8), )\n",
    "eq4 = sym.Eq( .subs(x,8),0)\n",
    "\n",
    "sol = sym.solve([eq1,eq2,eq3,eq4],(C_1,C_2,C_3,C_4))\n",
    "for k, v in sol.items():\n",
    "    print(f\"{k} = {v} ≈ {v.evalf()}\")"
   ]
  },
  {
   "cell_type": "markdown",
   "id": "94270e4f",
   "metadata": {},
   "source": [
    ":::::{exercise-end}\n",
    ":::::\n",
    "\n",
    "% solution_start\n",
    "\n",
    "::::{solution-start} ODE_3_3\n",
    ":class: dropdown\n",
    "::::\n",
    "\n",
    "$ w = - \\cfrac{x^{5}}{10} + \\cfrac{64 x^{3}}{5} - \\cfrac{2048 x}{5} = - 0.1 x^{5} + 12.8 x^{3} - 409.6 x $\n",
    "% solution_end"
   ]
  },
  {
   "cell_type": "code",
   "execution_count": 22,
   "id": "f46e4efd",
   "metadata": {
    "tags": [
     "solution"
    ]
   },
   "outputs": [],
   "source": [
    "import numpy as np\n",
    "\n",
    "A = np.array([\n",
    "    [  0   ,  0   , 0,1],\n",
    "    [  0   ,  1   , 0,0],\n",
    "    [-1/75 ,-1/200,-8,1],\n",
    "    [ 1/200, 1/800, 1,0],\n",
    "])\n",
    "\n",
    "b = np.array([\n",
    "        0,\n",
    "        0,\n",
    "     64/125,\n",
    "     -8/25,\n",
    "])\n"
   ]
  },
  {
   "cell_type": "code",
   "execution_count": 25,
   "id": "300cd851",
   "metadata": {
    "tags": [
     "solution"
    ]
   },
   "outputs": [
    {
     "data": {
      "text/plain": [
       "array([-7.68e+01,  0.00e+00,  6.40e-02,  0.00e+00])"
      ]
     },
     "execution_count": 25,
     "metadata": {},
     "output_type": "execute_result"
    }
   ],
   "source": [
    "np.linalg.solve(A,b)"
   ]
  },
  {
   "cell_type": "code",
   "execution_count": 28,
   "id": "96516034",
   "metadata": {
    "tags": [
     "solution"
    ]
   },
   "outputs": [
    {
     "data": {
      "image/png": "[encoded data removed]",
      "text/latex": [
       "$\\displaystyle - 0.1 x^{5} + 12.8 x^{3} - 409.6 x$"
      ],
      "text/plain": [
       "       5         3          \n",
       "- 0.1⋅x  + 12.8⋅x  - 409.6⋅x"
      ]
     },
     "metadata": {},
     "output_type": "display_data"
    }
   ],
   "source": [
    "import sympy as sym\n",
    "sym.init_printing()\n",
    "\n",
    "x = sym.symbols('x')\n",
    "\n",
    "q =  -12 * x\n",
    "EI = 6400\n",
    "\n",
    "C_1, C_2, C_3, C_4 = sym.symbols('C_1 C_2 C_3 C_4')\n",
    "\n",
    "V = -sym.integrate(q, x) + C_1\n",
    "M = sym.integrate(V, x) + C_2\n",
    "kappa = M/EI\n",
    "phi = sym.integrate(kappa, x) + C_3\n",
    "w = -sym.integrate(phi, x) + C_4\n",
    "\n",
    "eq1 = sym.Eq(w.subs(x,0),0)\n",
    "eq2 = sym.Eq(M.subs(x,0),0)\n",
    "eq3 = sym.Eq(w.subs(x,8),0)\n",
    "eq4 = sym.Eq(phi.subs(x,8),0)\n",
    "\n",
    "sol = sym.solve([eq1,eq2,eq3,eq4],(C_1,C_2,C_3,C_4))\n",
    "\n",
    "display((w.subs(sol)*EI).evalf())\n",
    "\n",
    "A,b = sym.linear_eq_to_matrix((eq1,eq2,eq3,eq4), (C_1,C_2,C_3,C_4))"
   ]
  },
  {
   "cell_type": "markdown",
   "id": "b3a4c9d4",
   "metadata": {},
   "source": [
    "% solution_start\n",
    "\n",
    "::::{solution-end}\n",
    "::::\n",
    "\n",
    "% solution_end"
   ]
  }
 ],
 "metadata": {
  "kernelspec": {
   "display_name": "base",
   "language": "python",
   "name": "python3"
  },
  "language_info": {
   "codemirror_mode": {
    "name": "ipython",
    "version": 3
   },
   "file_extension": ".py",
   "mimetype": "text/x-python",
   "name": "python",
   "nbconvert_exporter": "python",
   "pygments_lexer": "ipython3",
   "version": "3.12.11"
  }
 },
 "nbformat": 4,
 "nbformat_minor": 5
}
