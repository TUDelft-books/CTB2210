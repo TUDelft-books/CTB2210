{
 "cells": [
  {
   "cell_type": "markdown",
   "id": "44f13f99",
   "metadata": {},
   "source": [
    "````{margin}\n",
    "```{attributiongrey} Bronvermelding\n",
    ":class: attribution\n",
    "\n",
    "Deze oefening is aangepast van https://github.com/TUDelft-books/CT1000 versie CTB2210-2025.\n",
    "```\n",
    "```` \n",
    "\n",
    "# Begeleide oefening 1\n",
    "\n",
    "Gegeven is de volgende constructie:\n",
    "\n",
    "```{figure} ../_git/github.com_TUDelft-books_CT1000/CTB2210-2025/book/week_3/session_1/intro_data/figure2.svg\n",
    "---\n",
    "align: center\n",
    "---\n",
    "Constructie\n",
    "```\n",
    "\n",
    ":::::{exercise}\n",
    ":label: ODE_3_1\n",
    ":nonumber: true\n",
    "\n",
    "Bepaal de segmenten en teken de vrijlichaamsschema's.\n",
    "\n",
    "```{h5p} https://tudelft.h5p.com/content/1292630673009985967/embed\n",
    "```\n",
    "\n",
    ":::::\n",
    "\n",
    "\n",
    ":::::{exercise}\n",
    ":label: ODE_3_2\n",
    ":nonumber: true\n",
    "\n",
    "Bepaal de relaties van de krachtsgrootheden en verplaatsingen.\n",
    "\n",
    "```{h5p} https://tudelft.h5p.com/content/1292630677998825487/embed\n",
    "```\n",
    "\n",
    ":::::\n",
    "\n",
    "\n",
    ":::::{exercise-start}\n",
    ":label: ODE_3_3\n",
    ":nonumber: true\n",
    "\n",
    "Los de integratieconstanten op. Je kan gebruik maken van de volgende code cellen. (Klik op {fa}`rocket` --> {guilabel}`Live Code` om live python code te activeren op deze pagina.)\n",
    "\n",
    "```{h5p} https://tudelft.h5p.com/content/1292630704310133517/embed\n",
    "```\n",
    "\n",
    ":::::\n"
   ]
  },
  {
   "cell_type": "code",
   "execution_count": null,
   "id": "91dc34be",
   "metadata": {},
   "outputs": [],
   "source": [
    "import numpy as np\n",
    "\n",
    "A = np.array([\n",
    "    [ , , , ],\n",
    "    [ , , , ],\n",
    "    [ , , , ],\n",
    "    [ , , , ],\n",
    "])\n",
    "\n",
    "b = np.array([\n",
    "        ,\n",
    "        ,\n",
    "        ,\n",
    "        ,\n",
    "])\n"
   ]
  },
  {
   "cell_type": "code",
   "execution_count": null,
   "id": "ce6f1792",
   "metadata": {},
   "outputs": [],
   "source": [
    "np.linalg.solve(A,b)"
   ]
  },
  {
   "cell_type": "code",
   "execution_count": null,
   "id": "9e466305",
   "metadata": {},
   "outputs": [],
   "source": [
    "import sympy as sym\n",
    "sym.init_printing()\n",
    "\n",
    "x = sym.symbols('x')\n",
    "\n",
    "q =  \n",
    "EI = 6400\n",
    "\n",
    "C_1, C_2, C_3, C_4 = sym.symbols('C_1 C_2 C_3 C_4')\n",
    "\n",
    "V = -sym.integrate(q, x) + C_1\n",
    "M = sym.integrate(V, x) + C_2\n",
    "kappa = M/EI\n",
    "phi = sym.integrate(kappa, x) + C_3\n",
    "w = -sym.integrate(phi, x) + C_4\n",
    "\n",
    "eq1 = sym.Eq(w.subs(x,0), )\n",
    "eq2 = sym.Eq( .subs(x,0), )\n",
    "eq3 = sym.Eq(w.subs(x,8), )\n",
    "eq4 = sym.Eq( .subs(x,8),0)\n",
    "\n",
    "sol = sym.solve([eq1,eq2,eq3,eq4],(C_1,C_2,C_3,C_4))\n",
    "for k, v in sol.items():\n",
    "    print(f\"{k} = {v} ≈ {v.evalf()}\")"
   ]
  },
  {
   "cell_type": "markdown",
   "id": "94270e4f",
   "metadata": {},
   "source": [
    ":::::{exercise-end}\n",
    ":::::\n"
   ]
  },
  {
   "cell_type": "markdown",
   "id": "b3a4c9d4",
   "metadata": {},
   "source": []
  }
 ],
 "metadata": {
  "kernelspec": {
   "display_name": "base",
   "language": "python",
   "name": "python3"
  },
  "language_info": {
   "codemirror_mode": {
    "name": "ipython",
    "version": 3
   },
   "file_extension": ".py",
   "mimetype": "text/x-python",
   "name": "python",
   "nbconvert_exporter": "python",
   "pygments_lexer": "ipython3",
   "version": "3.12.11"
  }
 },
 "nbformat": 4,
 "nbformat_minor": 5
}
