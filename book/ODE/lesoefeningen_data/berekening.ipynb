{
 "cells": [
  {
   "cell_type": "code",
   "execution_count": 2,
   "id": "535e605b",
   "metadata": {},
   "outputs": [
    {
     "name": "stdout",
     "output_type": "stream",
     "text": [
      "C_1 = 1792/415 ≈ 4.31807228915663\n",
      "C_10 = 504/259375 ≈ 0.00194313253012048\n",
      "C_2 = 0 ≈ 0\n",
      "C_3 = -4904/778125 ≈ -0.00630232931726908\n",
      "C_4 = 504/259375 ≈ 0.00194313253012048\n",
      "C_5 = 1792/415 ≈ 4.31807228915663\n",
      "C_6 = 7168/415 ≈ 17.2722891566265\n",
      "C_7 = 472/778125 ≈ 0.000606586345381526\n",
      "C_8 = 2792/155625 ≈ 0.0179405622489960\n",
      "C_9 = -1792/415 ≈ -4.31807228915663\n"
     ]
    }
   ],
   "source": [
    "import sympy as sym\n",
    "sym.init_printing()\n",
    "\n",
    "x = sym.symbols('x')\n",
    "\n",
    "q = 10 \n",
    "EI = 5000 \n",
    "EA = 20000 \n",
    "F = 150\n",
    "\n",
    "q_AC = 0\n",
    "q_BC = q\n",
    "q_AD = 0\n",
    "\n",
    "C_1, C_2, C_3, C_4 = sym.symbols('C_1 C_2 C_3 C_4')\n",
    "C_5, C_6, C_7, C_8 = sym.symbols('C_5 C_6 C_7 C_8')\n",
    "C_9, C_10 = sym.symbols('C_9 C_10')\n",
    "\n",
    "V_AC = -sym.integrate(q_AC, x) + C_1\n",
    "M_AC = sym.integrate(V_AC, x) + C_2\n",
    "kappa_AC = M_AC/EI\n",
    "phi_AC = sym.integrate(kappa_AC, x) + C_3\n",
    "w_AC = -sym.integrate(phi_AC, x) + C_4\n",
    "\n",
    "V_BC = -sym.integrate(q_BC, x) + C_5\n",
    "M_BC = sym.integrate(V_BC, x) + C_6\n",
    "kappa_BC = M_BC/EI\n",
    "phi_BC = sym.integrate(kappa_BC, x) + C_7\n",
    "w_BC = -sym.integrate(phi_BC, x) + C_8\n",
    "\n",
    "N_AD = -sym.integrate(q_AD, x) + C_9\n",
    "epsilon_AD = N_AD/EA\n",
    "u_AD = sym.integrate(epsilon_AD, x) + C_10\n",
    "\n",
    "eq1 = sym.Eq(w_AC.subs(x,0),u_AD.subs(x,0))\n",
    "eq2 = sym.Eq(M_AC.subs(x,0),0)\n",
    "eq3 = sym.Eq(w_BC.subs(x,4),0)\n",
    "eq4 = sym.Eq(phi_BC.subs(x,4),0)\n",
    "eq5 = sym.Eq(w_AC.subs(x,4)-w_BC.subs(x,0),0)\n",
    "eq6 = sym.Eq(phi_AC.subs(x,4)-phi_BC.subs(x,0),0)\n",
    "eq7 = sym.Eq(M_AC.subs(x,4) - M_BC.subs(x,0),0)\n",
    "eq8 = sym.Eq(V_AC.subs(x,4) - V_BC.subs(x,0),0)\n",
    "eq9 = sym.Eq(u_AD.subs(x,9),0)\n",
    "eq10 = sym.Eq(N_AD.subs(x,0),-V_AC.subs(x,0))\n",
    "\n",
    "sol = sym.solve([eq1,eq2,eq3,eq4,eq5,eq6,eq7,eq8,eq9,eq10],(C_1,C_2,C_3,C_4,C_5,C_6,C_7,C_8,C_9,C_10))\n",
    "for k, v in sol.items():\n",
    "    print(f\"{k} = {v} ≈ {v.evalf()}\")"
   ]
  },
  {
   "cell_type": "code",
   "execution_count": 4,
   "id": "3a98531b",
   "metadata": {},
   "outputs": [
    {
     "data": {
      "image/png": "[encoded data removed]",
      "text/latex": [
       "$\\displaystyle C_{4} = C_{10}$"
      ],
      "text/plain": [
       "C₄ = C₁₀"
      ]
     },
     "metadata": {},
     "output_type": "display_data"
    },
    {
     "data": {
      "image/png": "[encoded data removed]",
      "text/latex": [
       "$\\displaystyle C_{2} = 0$"
      ],
      "text/plain": [
       "C₂ = 0"
      ]
     },
     "metadata": {},
     "output_type": "display_data"
    },
    {
     "data": {
      "image/png": "[encoded data removed]",
      "text/latex": [
       "$\\displaystyle - \\frac{4 C_{5}}{1875} - \\frac{C_{6}}{625} - 4 C_{7} + C_{8} + \\frac{8}{375} = 0$"
      ],
      "text/plain": [
       "  4⋅C₅   C₆                 8     \n",
       "- ──── - ─── - 4⋅C₇ + C₈ + ─── = 0\n",
       "  1875   625               375    "
      ]
     },
     "metadata": {},
     "output_type": "display_data"
    },
    {
     "data": {
      "image/png": "[encoded data removed]",
      "text/latex": [
       "$\\displaystyle \\frac{C_{5}}{625} + \\frac{C_{6}}{1250} + C_{7} - \\frac{8}{375} = 0$"
      ],
      "text/plain": [
       "C₅     C₆          8     \n",
       "─── + ──── + C₇ - ─── = 0\n",
       "625   1250        375    "
      ]
     },
     "metadata": {},
     "output_type": "display_data"
    },
    {
     "data": {
      "image/png": "[encoded data removed]",
      "text/latex": [
       "$\\displaystyle - \\frac{4 C_{1}}{1875} - \\frac{C_{2}}{625} - 4 C_{3} + C_{4} - C_{8} = 0$"
      ],
      "text/plain": [
       "  4⋅C₁   C₂                      \n",
       "- ──── - ─── - 4⋅C₃ + C₄ - C₈ = 0\n",
       "  1875   625                     "
      ]
     },
     "metadata": {},
     "output_type": "display_data"
    },
    {
     "data": {
      "image/png": "[encoded data removed]",
      "text/latex": [
       "$\\displaystyle \\frac{C_{1}}{625} + \\frac{C_{2}}{1250} + C_{3} - C_{7} = 0$"
      ],
      "text/plain": [
       "C₁     C₂               \n",
       "─── + ──── + C₃ - C₇ = 0\n",
       "625   1250              "
      ]
     },
     "metadata": {},
     "output_type": "display_data"
    },
    {
     "data": {
      "image/png": "[encoded data removed]",
      "text/latex": [
       "$\\displaystyle 4 C_{1} + C_{2} - C_{6} = 0$"
      ],
      "text/plain": [
       "4⋅C₁ + C₂ - C₆ = 0"
      ]
     },
     "metadata": {},
     "output_type": "display_data"
    },
    {
     "data": {
      "image/png": "[encoded data removed]",
      "text/latex": [
       "$\\displaystyle C_{1} - C_{5} = 0$"
      ],
      "text/plain": [
       "C₁ - C₅ = 0"
      ]
     },
     "metadata": {},
     "output_type": "display_data"
    },
    {
     "data": {
      "image/png": "[encoded data removed]",
      "text/latex": [
       "$\\displaystyle C_{10} + \\frac{9 C_{9}}{20000} = 0$"
      ],
      "text/plain": [
       "      9⋅C₉     \n",
       "C₁₀ + ───── = 0\n",
       "      20000    "
      ]
     },
     "metadata": {},
     "output_type": "display_data"
    },
    {
     "data": {
      "image/png": "[encoded data removed]",
      "text/latex": [
       "$\\displaystyle C_{9} = - C_{1}$"
      ],
      "text/plain": [
       "C₉ = -C₁"
      ]
     },
     "metadata": {},
     "output_type": "display_data"
    }
   ],
   "source": [
    "display(eq1, eq2, eq3, eq4, eq5, eq6, eq7, eq8, eq9, eq10)"
   ]
  },
  {
   "cell_type": "code",
   "execution_count": 5,
   "id": "d463f5bf",
   "metadata": {},
   "outputs": [],
   "source": [
    "A,b = sym.linear_eq_to_matrix((eq1,eq2,eq3,eq4,eq5,eq6,eq7,eq8,eq9,eq10), (C_1,C_2,C_3,C_4,C_5,C_6,C_7,C_8,C_9,C_10))"
   ]
  },
  {
   "cell_type": "code",
   "execution_count": 7,
   "id": "f773afff",
   "metadata": {},
   "outputs": [
    {
     "data": {
      "text/latex": [
       "$\\displaystyle \\left[\\begin{matrix}0 & 0 & 0 & 1 & 0 & 0 & 0 & 0 & 0 & -1\\\\0 & 1 & 0 & 0 & 0 & 0 & 0 & 0 & 0 & 0\\\\0 & 0 & 0 & 0 & - \\frac{4}{1875} & - \\frac{1}{625} & -4 & 1 & 0 & 0\\\\0 & 0 & 0 & 0 & \\frac{1}{625} & \\frac{1}{1250} & 1 & 0 & 0 & 0\\\\- \\frac{4}{1875} & - \\frac{1}{625} & -4 & 1 & 0 & 0 & 0 & -1 & 0 & 0\\\\\\frac{1}{625} & \\frac{1}{1250} & 1 & 0 & 0 & 0 & -1 & 0 & 0 & 0\\\\4 & 1 & 0 & 0 & 0 & -1 & 0 & 0 & 0 & 0\\\\1 & 0 & 0 & 0 & -1 & 0 & 0 & 0 & 0 & 0\\\\0 & 0 & 0 & 0 & 0 & 0 & 0 & 0 & \\frac{9}{20000} & 1\\\\1 & 0 & 0 & 0 & 0 & 0 & 0 & 0 & 1 & 0\\end{matrix}\\right]$"
      ],
      "text/plain": [
       "⎡   0       0     0   1     0       0     0   0      0     -1⎤\n",
       "⎢                                                            ⎥\n",
       "⎢   0       1     0   0     0       0     0   0      0     0 ⎥\n",
       "⎢                                                            ⎥\n",
       "⎢   0       0     0   0  -4/1875  -1/625  -4  1      0     0 ⎥\n",
       "⎢                                                            ⎥\n",
       "⎢   0       0     0   0   1/625   1/1250  1   0      0     0 ⎥\n",
       "⎢                                                            ⎥\n",
       "⎢-4/1875  -1/625  -4  1     0       0     0   -1     0     0 ⎥\n",
       "⎢                                                            ⎥\n",
       "⎢ 1/625   1/1250  1   0     0       0     -1  0      0     0 ⎥\n",
       "⎢                                                            ⎥\n",
       "⎢   4       1     0   0     0       -1    0   0      0     0 ⎥\n",
       "⎢                                                            ⎥\n",
       "⎢   1       0     0   0    -1       0     0   0      0     0 ⎥\n",
       "⎢                                                            ⎥\n",
       "⎢   0       0     0   0     0       0     0   0   9/20000  1 ⎥\n",
       "⎢                                                            ⎥\n",
       "⎣   1       0     0   0     0       0     0   0      1     0 ⎦"
      ]
     },
     "metadata": {},
     "output_type": "display_data"
    },
    {
     "data": {
      "text/latex": [
       "$\\displaystyle \\left[\\begin{matrix}0\\\\0\\\\- \\frac{8}{375}\\\\\\frac{8}{375}\\\\0\\\\0\\\\0\\\\0\\\\0\\\\0\\end{matrix}\\right]$"
      ],
      "text/plain": [
       "⎡  0   ⎤\n",
       "⎢      ⎥\n",
       "⎢  0   ⎥\n",
       "⎢      ⎥\n",
       "⎢-8/375⎥\n",
       "⎢      ⎥\n",
       "⎢8/375 ⎥\n",
       "⎢      ⎥\n",
       "⎢  0   ⎥\n",
       "⎢      ⎥\n",
       "⎢  0   ⎥\n",
       "⎢      ⎥\n",
       "⎢  0   ⎥\n",
       "⎢      ⎥\n",
       "⎢  0   ⎥\n",
       "⎢      ⎥\n",
       "⎢  0   ⎥\n",
       "⎢      ⎥\n",
       "⎣  0   ⎦"
      ]
     },
     "metadata": {},
     "output_type": "display_data"
    }
   ],
   "source": [
    "display(A, b)"
   ]
  },
  {
   "cell_type": "code",
   "execution_count": null,
   "id": "9d6cdf39",
   "metadata": {},
   "outputs": [],
   "source": [
    "import numpy as np\n",
    "\n",
    "A = np.array([\n",
    "    [    0,      0,     0,  1,    0,       0,    0,  0,     0, -1],\n",
    "    [    0,      1,     0,  0,    0,       0,    0,  0,     0,  0],\n",
    "    [    0,      0,     0,  0, -4/1875, -1/625, -4,  1,     0,  0],\n",
    "    [    0,      0,     0,  0,  1/625,  1/1250,  1,  0,     0,  0],\n",
    "    [-4/1875, -1/625,  -4,  1,    0,       0,    0, -1,     0,  0],\n",
    "    [ 1/625,  1/1250,   1,  0,    0,       0,   -1,  0,     0,  0],\n",
    "    [    4,      1,     0,  0,    0,      -1,    0,  0,     0,  0],\n",
    "    [    1,      0,     0,  0,   -1,       0,    0,  0,     0,  0],\n",
    "    [    0,      0,     0,  0,    0,       0,    0,  0, 9/20000, 1],\n",
    "    [    1,      0,     0,  0,    0,       0,    0,  0,     1,  0]\n",
    "])\n",
    "\n",
    "b = np.array([\n",
    "       0,\n",
    "       0,\n",
    "    -8/375,\n",
    "     8/375,\n",
    "       0,\n",
    "       0,\n",
    "       0,\n",
    "       0,\n",
    "       0,\n",
    "       0\n",
    "])\n"
   ]
  }
 ],
 "metadata": {
  "kernelspec": {
   "display_name": "base",
   "language": "python",
   "name": "python3"
  },
  "language_info": {
   "codemirror_mode": {
    "name": "ipython",
    "version": 3
   },
   "file_extension": ".py",
   "mimetype": "text/x-python",
   "name": "python",
   "nbconvert_exporter": "python",
   "pygments_lexer": "ipython3",
   "version": "3.12.11"
  }
 },
 "nbformat": 4,
 "nbformat_minor": 5
}
