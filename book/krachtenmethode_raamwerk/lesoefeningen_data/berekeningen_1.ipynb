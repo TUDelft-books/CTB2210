{
 "cells": [
  {
   "cell_type": "code",
   "execution_count": 9,
   "id": "74b302d7",
   "metadata": {},
   "outputs": [],
   "source": [
    "import sympy as sym\n",
    "\n",
    "M_C, T_C, EI, EA = sym.symbols('M_C, T_C EI EA')\n",
    "\n",
    "T_C = 30"
   ]
  },
  {
   "cell_type": "code",
   "execution_count": 12,
   "id": "3e1d0dba",
   "metadata": {},
   "outputs": [
    {
     "name": "stdout",
     "output_type": "stream",
     "text": [
      "3.605551275463989\n"
     ]
    }
   ],
   "source": [
    "print(13**0.5)"
   ]
  },
  {
   "cell_type": "code",
   "execution_count": 10,
   "id": "68e1e2be",
   "metadata": {},
   "outputs": [
    {
     "data": {
      "text/latex": [
       "$\\displaystyle \\frac{2 M_{C}}{3 EI}$"
      ],
      "text/plain": [
       "2*M_C/(3*EI)"
      ]
     },
     "metadata": {},
     "output_type": "display_data"
    },
    {
     "data": {
      "text/latex": [
       "$\\displaystyle \\frac{- M_{C} - 30}{3 EI}$"
      ],
      "text/plain": [
       "(-M_C - 30)/(3*EI)"
      ]
     },
     "metadata": {},
     "output_type": "display_data"
    },
    {
     "data": {
      "text/latex": [
       "$\\displaystyle -10$"
      ],
      "text/plain": [
       "-10"
      ]
     },
     "metadata": {},
     "output_type": "display_data"
    }
   ],
   "source": [
    "phi_C_AC = M_C * 6 / EI / 3 / 3\n",
    "\n",
    "M_C_BC = M_C + T_C\n",
    "phi_C_BC = - M_C_BC * sym.sqrt(13) / EI / sym.sqrt(13) / 3\n",
    "\n",
    "display(phi_C_AC, phi_C_BC)\n",
    "\n",
    "eq = sym.Eq(phi_C_AC, phi_C_BC)\n",
    "M_C_BC_sol = sym.solve(eq, M_C)[0]\n",
    "display(M_C_BC_sol)"
   ]
  },
  {
   "cell_type": "code",
   "execution_count": null,
   "id": "ba7c0b3c",
   "metadata": {},
   "outputs": [],
   "source": []
  }
 ],
 "metadata": {
  "kernelspec": {
   "display_name": "base",
   "language": "python",
   "name": "python3"
  },
  "language_info": {
   "codemirror_mode": {
    "name": "ipython",
    "version": 3
   },
   "file_extension": ".py",
   "mimetype": "text/x-python",
   "name": "python",
   "nbconvert_exporter": "python",
   "pygments_lexer": "ipython3",
   "version": "3.12.11"
  }
 },
 "nbformat": 4,
 "nbformat_minor": 5
}
