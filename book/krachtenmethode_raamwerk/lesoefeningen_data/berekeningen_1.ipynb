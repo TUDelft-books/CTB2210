{
 "cells": [
  {
   "cell_type": "code",
   "execution_count": 55,
   "id": "74b302d7",
   "metadata": {},
   "outputs": [],
   "source": [
    "import sympy as sym\n",
    "\n",
    "M_C, T_C, EI, EA = sym.symbols('M_C, T_C EI EA')\n",
    "\n",
    "T_C = 30\n",
    "\n",
    "EI = 2000/3"
   ]
  },
  {
   "cell_type": "code",
   "execution_count": 56,
   "id": "3e1d0dba",
   "metadata": {},
   "outputs": [
    {
     "name": "stdout",
     "output_type": "stream",
     "text": [
      "3.605551275463989\n"
     ]
    }
   ],
   "source": [
    "print(13**0.5)"
   ]
  },
  {
   "cell_type": "code",
   "execution_count": 60,
   "id": "68e1e2be",
   "metadata": {},
   "outputs": [
    {
     "data": {
      "text/latex": [
       "$\\displaystyle 0.001 M_{C}$"
      ],
      "text/plain": [
       "0.001*M_C"
      ]
     },
     "metadata": {},
     "output_type": "display_data"
    },
    {
     "data": {
      "text/latex": [
       "$\\displaystyle - 0.0005 M_{C BC}$"
      ],
      "text/plain": [
       "-0.0005*M_C_BC"
      ]
     },
     "metadata": {},
     "output_type": "display_data"
    },
    {
     "data": {
      "text/latex": [
       "$\\displaystyle M_{C} + 30$"
      ],
      "text/plain": [
       "M_C + 30"
      ]
     },
     "metadata": {},
     "output_type": "display_data"
    },
    {
     "data": {
      "text/latex": [
       "$\\displaystyle -10.0$"
      ],
      "text/plain": [
       "-10.0000000000000"
      ]
     },
     "metadata": {},
     "output_type": "display_data"
    },
    {
     "data": {
      "text/latex": [
       "$\\displaystyle 20.0$"
      ],
      "text/plain": [
       "20.0000000000000"
      ]
     },
     "metadata": {},
     "output_type": "display_data"
    }
   ],
   "source": [
    "phi_C_AC = M_C * 6 / EI / 3 / 3\n",
    "\n",
    "M_C_BC = sym.symbols('M_C_BC')\n",
    "phi_C_BC = - M_C_BC * sym.sqrt(13) / EI / sym.sqrt(13) / 3\n",
    "\n",
    "display(phi_C_AC.evalf(), phi_C_BC.evalf())\n",
    "\n",
    "M_C_BC_sol = M_C + T_C\n",
    "display(M_C_BC_sol)\n",
    "\n",
    "eq = sym.Eq(phi_C_AC, phi_C_BC.subs(M_C_BC, M_C_BC_sol))\n",
    "M_C_sol = sym.solve(eq, M_C)[0]\n",
    "display(M_C_sol)\n",
    "\n",
    "display(M_C_BC_sol.subs(M_C, M_C_sol))"
   ]
  },
  {
   "cell_type": "code",
   "execution_count": null,
   "id": "ba7c0b3c",
   "metadata": {},
   "outputs": [],
   "source": []
  }
 ],
 "metadata": {
  "kernelspec": {
   "display_name": "base",
   "language": "python",
   "name": "python3"
  },
  "language_info": {
   "codemirror_mode": {
    "name": "ipython",
    "version": 3
   },
   "file_extension": ".py",
   "mimetype": "text/x-python",
   "name": "python",
   "nbconvert_exporter": "python",
   "pygments_lexer": "ipython3",
   "version": "3.12.11"
  }
 },
 "nbformat": 4,
 "nbformat_minor": 5
}
