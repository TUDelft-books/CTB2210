{
 "cells": [
  {
   "cell_type": "code",
   "execution_count": 1,
   "id": "c1af39d5",
   "metadata": {},
   "outputs": [],
   "source": [
    "import sympy as sym"
   ]
  },
  {
   "cell_type": "code",
   "execution_count": 12,
   "id": "c9f523dd",
   "metadata": {},
   "outputs": [],
   "source": [
    "Av, Ah, EI, EA, F, L = sym.symbols('Av Ah EI EA F L')"
   ]
  },
  {
   "cell_type": "code",
   "execution_count": 24,
   "id": "d8116ba1",
   "metadata": {},
   "outputs": [
    {
     "data": {
      "text/latex": [
       "$\\displaystyle 90$"
      ],
      "text/plain": [
       "90"
      ]
     },
     "metadata": {},
     "output_type": "display_data"
    },
    {
     "data": {
      "text/latex": [
       "$\\displaystyle 90.0$"
      ],
      "text/plain": [
       "90.0000000000000"
      ]
     },
     "metadata": {},
     "output_type": "display_data"
    },
    {
     "data": {
      "text/latex": [
       "$\\displaystyle - 6 Av$"
      ],
      "text/plain": [
       "-6*Av"
      ]
     },
     "metadata": {},
     "output_type": "display_data"
    },
    {
     "data": {
      "text/latex": [
       "$\\displaystyle - 6.0 Av$"
      ],
      "text/plain": [
       "-6.0*Av"
      ]
     },
     "metadata": {},
     "output_type": "display_data"
    },
    {
     "data": {
      "text/latex": [
       "$\\displaystyle \\frac{3 Av}{2500} - \\frac{9}{500}$"
      ],
      "text/plain": [
       "3*Av/2500 - 9/500"
      ]
     },
     "metadata": {},
     "output_type": "display_data"
    },
    {
     "data": {
      "text/latex": [
       "$\\displaystyle 0.0012 Av - 0.018$"
      ],
      "text/plain": [
       "0.0012*Av - 0.018"
      ]
     },
     "metadata": {},
     "output_type": "display_data"
    },
    {
     "data": {
      "text/latex": [
       "$\\displaystyle \\frac{27 Av}{1250} - \\frac{27}{250}$"
      ],
      "text/plain": [
       "27*Av/1250 - 27/250"
      ]
     },
     "metadata": {},
     "output_type": "display_data"
    },
    {
     "data": {
      "text/latex": [
       "$\\displaystyle 0.0216 Av - 0.108$"
      ],
      "text/plain": [
       "0.0216*Av - 0.108"
      ]
     },
     "metadata": {},
     "output_type": "display_data"
    },
    {
     "data": {
      "text/latex": [
       "$\\displaystyle 5$"
      ],
      "text/plain": [
       "5"
      ]
     },
     "metadata": {},
     "output_type": "display_data"
    },
    {
     "data": {
      "text/latex": [
       "$\\displaystyle -30$"
      ],
      "text/plain": [
       "-30"
      ]
     },
     "metadata": {},
     "output_type": "display_data"
    }
   ],
   "source": [
    "L = 6\n",
    "EI = 5000\n",
    "F = sym.S(30)\n",
    "\n",
    "M_C = F * L / 2\n",
    "M_B = - Av * L\n",
    "phi_B = - M_C * L / 2 / EI / 3 - M_B * L / 2 / EI / 3\n",
    "w_A = phi_B * L + Av * L**3 / EI / 3\n",
    "\n",
    "display(M_C)\n",
    "display(M_C.evalf())\n",
    "display(M_B)\n",
    "display(M_B.evalf())\n",
    "display(phi_B)\n",
    "display(phi_B.evalf())\n",
    "display(w_A)\n",
    "display(w_A.evalf())\n",
    "\n",
    "eq = sym.Eq(w_A, 0)\n",
    "sol = sym.solve(eq, Av)\n",
    "display(sol[0])\n",
    "\n",
    "display(M_B.subs(Av, sol[0]))"
   ]
  },
  {
   "cell_type": "code",
   "execution_count": null,
   "id": "452d5ce8",
   "metadata": {},
   "outputs": [],
   "source": []
  }
 ],
 "metadata": {
  "kernelspec": {
   "display_name": "base",
   "language": "python",
   "name": "python3"
  },
  "language_info": {
   "codemirror_mode": {
    "name": "ipython",
    "version": 3
   },
   "file_extension": ".py",
   "mimetype": "text/x-python",
   "name": "python",
   "nbconvert_exporter": "python",
   "pygments_lexer": "ipython3",
   "version": "3.12.11"
  }
 },
 "nbformat": 4,
 "nbformat_minor": 5
}
