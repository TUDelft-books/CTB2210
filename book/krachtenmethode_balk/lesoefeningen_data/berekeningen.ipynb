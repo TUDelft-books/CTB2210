{
 "cells": [
  {
   "cell_type": "code",
   "execution_count": 81,
   "id": "49a67145",
   "metadata": {},
   "outputs": [
    {
     "data": {
      "text/latex": [
       "$\\displaystyle \\frac{27}{100} - \\frac{Bv}{80}$"
      ],
      "text/plain": [
       "27/100 - Bv/80"
      ]
     },
     "metadata": {},
     "output_type": "display_data"
    },
    {
     "data": {
      "text/latex": [
       "$\\displaystyle 0.27 - 0.0125 Bv$"
      ],
      "text/plain": [
       "0.27 - 0.0125*Bv"
      ]
     },
     "metadata": {},
     "output_type": "display_data"
    },
    {
     "data": {
      "text/latex": [
       "$\\displaystyle \\frac{27}{200} - \\frac{3 Bv}{400}$"
      ],
      "text/plain": [
       "27/200 - 3*Bv/400"
      ]
     },
     "metadata": {},
     "output_type": "display_data"
    },
    {
     "data": {
      "text/latex": [
       "$\\displaystyle 0.135 - 0.0075 Bv$"
      ],
      "text/plain": [
       "0.135 - 0.0075*Bv"
      ]
     },
     "metadata": {},
     "output_type": "display_data"
    },
    {
     "data": {
      "text/latex": [
       "$\\displaystyle \\frac{27}{40} - \\frac{9 Bv}{200}$"
      ],
      "text/plain": [
       "27/40 - 9*Bv/200"
      ]
     },
     "metadata": {},
     "output_type": "display_data"
    },
    {
     "data": {
      "text/latex": [
       "$\\displaystyle 0.675 - 0.045 Bv$"
      ],
      "text/plain": [
       "0.675 - 0.045*Bv"
      ]
     },
     "metadata": {},
     "output_type": "display_data"
    },
    {
     "data": {
      "text/latex": [
       "$\\displaystyle 15$"
      ],
      "text/plain": [
       "15"
      ]
     },
     "metadata": {},
     "output_type": "display_data"
    }
   ],
   "source": [
    "import sympy as sym\n",
    "\n",
    "EI, F, L, Bv = sym.symbols('EI F L Bv')\n",
    "\n",
    "F = sym.nsimplify(54)\n",
    "L = sym.nsimplify(6)\n",
    "EI = 900\n",
    "\n",
    "w_C = (F - Bv) * (L / 2)**3 / 3 / 2 / EI - Bv * L / 2 * (L/2)**2 / 2 / EI / 2\n",
    "phi_C = (F - Bv) * (L / 2)**2 / 2 / 2 / EI - Bv * L / 2 * (L/2) / 2 / EI\n",
    "\n",
    "display(w_C)\n",
    "display(w_C.evalf())\n",
    "display(phi_C)\n",
    "display(phi_C.evalf())\n",
    "\n",
    "w_B = w_C + phi_C * (L / 2) - Bv * (L / 2)**3 / 3 / EI\n",
    "\n",
    "display(w_B)\n",
    "display(w_B.evalf())\n",
    "\n",
    "eq = sym.Eq(w_B, 0)\n",
    "B_v_solution = sym.solve(eq, Bv)[0]\n",
    "display(B_v_solution)"
   ]
  },
  {
   "cell_type": "code",
   "execution_count": 82,
   "id": "c2ab7f93",
   "metadata": {},
   "outputs": [
    {
     "data": {
      "text/latex": [
       "$\\displaystyle \\frac{33}{400}$"
      ],
      "text/plain": [
       "33/400"
      ]
     },
     "metadata": {},
     "output_type": "display_data"
    },
    {
     "data": {
      "text/latex": [
       "$\\displaystyle 0.0825$"
      ],
      "text/plain": [
       "0.0825000000000000"
      ]
     },
     "metadata": {},
     "output_type": "display_data"
    },
    {
     "data": {
      "text/latex": [
       "$\\displaystyle \\frac{9}{400}$"
      ],
      "text/plain": [
       "9/400"
      ]
     },
     "metadata": {},
     "output_type": "display_data"
    },
    {
     "data": {
      "text/latex": [
       "$\\displaystyle 0.0225$"
      ],
      "text/plain": [
       "0.0225000000000000"
      ]
     },
     "metadata": {},
     "output_type": "display_data"
    },
    {
     "data": {
      "text/latex": [
       "$\\displaystyle 45$"
      ],
      "text/plain": [
       "45"
      ]
     },
     "metadata": {},
     "output_type": "display_data"
    },
    {
     "data": {
      "text/latex": [
       "$\\displaystyle -72$"
      ],
      "text/plain": [
       "-72"
      ]
     },
     "metadata": {},
     "output_type": "display_data"
    },
    {
     "data": {
      "text/latex": [
       "$\\displaystyle 39$"
      ],
      "text/plain": [
       "39"
      ]
     },
     "metadata": {},
     "output_type": "display_data"
    }
   ],
   "source": [
    "display(w_C.subs({Bv: B_v_solution}))\n",
    "display(w_C.subs({Bv: B_v_solution}).evalf())\n",
    "display(phi_C.subs({Bv: B_v_solution}))\n",
    "display(phi_C.subs({Bv: B_v_solution}).evalf())\n",
    "\n",
    "M_C = B_v_solution * (L / 2)\n",
    "display(M_C)\n",
    "\n",
    "M_B = B_v_solution * L - F * (L / 2)\n",
    "display(M_B)\n",
    "\n",
    "A_v = -B_v_solution + F\n",
    "display(A_v)"
   ]
  },
  {
   "cell_type": "code",
   "execution_count": 101,
   "id": "cc2088f3",
   "metadata": {},
   "outputs": [
    {
     "data": {
      "text/latex": [
       "$\\displaystyle \\frac{27}{200} - \\frac{Cm}{600}$"
      ],
      "text/plain": [
       "27/200 - Cm/600"
      ]
     },
     "metadata": {},
     "output_type": "display_data"
    },
    {
     "data": {
      "text/latex": [
       "$\\displaystyle 0.135 - 0.00166666666666667 Cm$"
      ],
      "text/plain": [
       "0.135 - 0.00166666666666667*Cm"
      ]
     },
     "metadata": {},
     "output_type": "display_data"
    },
    {
     "data": {
      "text/latex": [
       "$\\displaystyle \\frac{27}{100} - \\frac{Cm}{400}$"
      ],
      "text/plain": [
       "27/100 - Cm/400"
      ]
     },
     "metadata": {},
     "output_type": "display_data"
    },
    {
     "data": {
      "text/latex": [
       "$\\displaystyle 0.27 - 0.0025 Cm$"
      ],
      "text/plain": [
       "0.27 - 0.0025*Cm"
      ]
     },
     "metadata": {},
     "output_type": "display_data"
    },
    {
     "data": {
      "text/latex": [
       "$\\displaystyle \\frac{7 Cm}{3600} - \\frac{9}{100}$"
      ],
      "text/plain": [
       "7*Cm/3600 - 9/100"
      ]
     },
     "metadata": {},
     "output_type": "display_data"
    },
    {
     "data": {
      "text/latex": [
       "$\\displaystyle 0.00194444444444444 Cm - 0.09$"
      ],
      "text/plain": [
       "0.00194444444444444*Cm - 0.09"
      ]
     },
     "metadata": {},
     "output_type": "display_data"
    },
    {
     "data": {
      "text/latex": [
       "$\\displaystyle \\frac{810}{13}$"
      ],
      "text/plain": [
       "810/13"
      ]
     },
     "metadata": {},
     "output_type": "display_data"
    },
    {
     "data": {
      "text/latex": [
       "$\\displaystyle 62.3076923076923$"
      ],
      "text/plain": [
       "62.3076923076923"
      ]
     },
     "metadata": {},
     "output_type": "display_data"
    }
   ],
   "source": [
    "import sympy as sym\n",
    "\n",
    "Cm = sym.symbols('Cm')\n",
    "\n",
    "phi_C = (F) * (L / 2)**2 / 2 / 2 / EI - Cm * (L/2) / EI / 2\n",
    "w_C = F * (L / 2)**3 / 3 / 2 / EI - Cm * (L/2)**2 / 2 / EI / 2\n",
    "phi_C_2 = Cm * (L / 2) / EI / 3 - w_C / (L / 2)\n",
    "\n",
    "display(phi_C)\n",
    "display(phi_C.evalf())\n",
    "display(w_C)\n",
    "display(w_C.evalf())\n",
    "display(phi_C_2)\n",
    "display(phi_C_2.evalf())\n",
    "\n",
    "eq = sym.Eq(phi_C, phi_C_2)\n",
    "Cm_solution = sym.solve(eq, Cm)[0]\n",
    "display(Cm_solution)\n",
    "display(Cm_solution.evalf())"
   ]
  },
  {
   "cell_type": "code",
   "execution_count": null,
   "id": "bd011ef2",
   "metadata": {},
   "outputs": [],
   "source": []
  }
 ],
 "metadata": {
  "kernelspec": {
   "display_name": "base",
   "language": "python",
   "name": "python3"
  },
  "language_info": {
   "codemirror_mode": {
    "name": "ipython",
    "version": 3
   },
   "file_extension": ".py",
   "mimetype": "text/x-python",
   "name": "python",
   "nbconvert_exporter": "python",
   "pygments_lexer": "ipython3",
   "version": "3.12.11"
  }
 },
 "nbformat": 4,
 "nbformat_minor": 5
}
